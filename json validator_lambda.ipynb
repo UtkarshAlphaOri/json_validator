{
 "cells": [
  {
   "cell_type": "code",
   "execution_count": null,
   "id": "72f4f49d",
   "metadata": {},
   "outputs": [],
   "source": [
    "import json\n",
    "import os\n",
    "import tempfile\n",
    "import boto3\n",
    "from botocore.exceptions import ClientError\n",
    "\n",
    "# Setting up S3 client\n",
    "s3 = boto3.client('s3')\n",
    "sns = boto3.client('sns')"
   ]
  },
  {
   "cell_type": "code",
   "execution_count": null,
   "id": "0fde34cc",
   "metadata": {},
   "outputs": [],
   "source": [
    "def download_file_from_s3(bucket, key, local_file_path):\n",
    "    try:\n",
    "        s3.download_file(bucket, key, local_file_path)\n",
    "        return True\n",
    "    except ClientError as e:\n",
    "        \n",
    "#Sending SNS notification for download error\n",
    "\n",
    "        sns.publish(\n",
    "            TopicArn='sns-topic-arn',\n",
    "            Subject='Error downloading file from S3',\n",
    "            Message=f\"Error downloading file from S3: {e}\"\n",
    "        )\n",
    "        return False\n"
   ]
  },
  {
   "cell_type": "code",
   "execution_count": null,
   "id": "64b84035",
   "metadata": {},
   "outputs": [],
   "source": [
    "def is_valid_json(json_str):\n",
    "    try:\n",
    "        json_object = json.loads(json_str)\n",
    "        return True\n",
    "    except json.JSONDecodeError as e:\n",
    "        \n",
    "# Sending SNS notification for JSON syntax error\n",
    "\n",
    "        sns.publish(\n",
    "            TopicArn='sns-topic-arn',\n",
    "            Subject='JSON Syntax Error',\n",
    "            Message=f\"JSON syntax is not valid. Error: {e}\\nAt line {e.lineno}, column {e.colno}\"\n",
    "        )\n",
    "        return False\n",
    "\n",
    "    \n",
    "def is_valid_json_file(bucket, key):\n",
    "    try:\n",
    "# Creating a temporary file to download the S3 file\n",
    "        with tempfile.NamedTemporaryFile(delete=False) as temp_file:\n",
    "            temp_file_path = temp_file.name\n",
    "            if download_file_from_s3(bucket, key, temp_file_path):\n",
    "                with open(temp_file_path, 'r') as file:\n",
    "                    json_str = file.read()\n",
    "                    return is_valid_json(json_str)\n",
    "            else:\n",
    "                return False\n",
    "            \n",
    "    except Exception as e:\n",
    "        # Send SNS notification for general processing error\n",
    "        sns.publish(\n",
    "            TopicArn='sns-topic-arn',\n",
    "            Subject='Error Processing File',\n",
    "            Message=f\"Error processing file: {e}\"\n",
    "        )\n",
    "        return False\n",
    "    \n",
    "    finally:\n",
    "# Cleaning up the temporary file\n",
    "        if os.path.exists(temp_file_path):\n",
    "            os.remove(temp_file_path)\n"
   ]
  },
  {
   "cell_type": "code",
   "execution_count": null,
   "id": "f7e5c772",
   "metadata": {},
   "outputs": [],
   "source": [
    "def lambda_handler(event, context):\n",
    "# Specifying the S3 bucket and key (object key) here\n",
    "    bucket_name = \"s3-bucket-name\"\n",
    "    object_key = \"path/to/invalid.json\"\n",
    "    \n",
    "    result = is_valid_json_file(bucket_name, object_key)\n",
    "    if result:\n",
    "        return {\n",
    "            'statusCode': 200,\n",
    "            'body': json.dumps('JSON validation passed!')\n",
    "        }\n",
    "    else:\n",
    "        return {\n",
    "            'statusCode': 500,\n",
    "            'body': json.dumps('JSON validation failed!')\n",
    "        }\n"
   ]
  },
  {
   "cell_type": "code",
   "execution_count": null,
   "id": "7cbf482a",
   "metadata": {},
   "outputs": [],
   "source": []
  }
 ],
 "metadata": {
  "kernelspec": {
   "display_name": "Python 3 (ipykernel)",
   "language": "python",
   "name": "python3"
  },
  "language_info": {
   "codemirror_mode": {
    "name": "ipython",
    "version": 3
   },
   "file_extension": ".py",
   "mimetype": "text/x-python",
   "name": "python",
   "nbconvert_exporter": "python",
   "pygments_lexer": "ipython3",
   "version": "3.9.13"
  }
 },
 "nbformat": 4,
 "nbformat_minor": 5
}
