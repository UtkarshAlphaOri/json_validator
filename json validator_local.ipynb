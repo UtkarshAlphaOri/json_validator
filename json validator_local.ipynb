{
 "cells": [
  {
   "cell_type": "code",
   "execution_count": 2,
   "id": "b95fc5bc",
   "metadata": {},
   "outputs": [],
   "source": [
    "import unittest\n",
    "import json\n",
    "import logging\n",
    "import os"
   ]
  },
  {
   "cell_type": "code",
   "execution_count": 3,
   "id": "918617e8",
   "metadata": {},
   "outputs": [],
   "source": [
    "script_dir = os.getcwd()\n",
    "log_file_path = os.path.join(script_dir, \"library_log.log\")\n",
    "\n",
    "logging.basicConfig(filename=log_file_path, level=logging.INFO, format='%(asctime)s - %(name)s - %(levelname)s - %(message)s')\n",
    "logger = logging.getLogger(__name__)\n"
   ]
  },
  {
   "cell_type": "code",
   "execution_count": 4,
   "id": "01774e44",
   "metadata": {},
   "outputs": [],
   "source": [
    "def is_valid_json(json_str):\n",
    "    try:\n",
    "        json_object = json.loads(json_str)\n",
    "        logger.info(\"JSON syntax is valid.\")\n",
    "        return True\n",
    "    except json.JSONDecodeError as e:\n",
    "        logger.error(f\"JSON syntax is not valid. Error: {e}\")\n",
    "        logger.error(f\"At line {e.lineno}, column {e.colno}\")\n",
    "        return False\n",
    "\n",
    "def is_valid_json_file(file_path):\n",
    "    try:\n",
    "        with open(file_path, 'r') as file:\n",
    "            json_str = file.read()\n",
    "            return is_valid_json(json_str)\n",
    "    except FileNotFoundError:\n",
    "        logger.error(\"File not found.\")\n",
    "        return False\n",
    "    except Exception as e:\n",
    "        logger.error(f\"Error reading file: {e}\")\n",
    "        return False"
   ]
  },
  {
   "cell_type": "code",
   "execution_count": 5,
   "id": "f637b677",
   "metadata": {},
   "outputs": [
    {
     "name": "stderr",
     "output_type": "stream",
     "text": [
      "F\n",
      "======================================================================\n",
      "FAIL: test_valid_json_file (__main__.TestJsonValidation)\n",
      "----------------------------------------------------------------------\n",
      "Traceback (most recent call last):\n",
      "  File \"C:\\Users\\utkarsh.d\\AppData\\Local\\Temp\\ipykernel_4764\\3555483972.py\", line 5, in test_valid_json_file\n",
      "    self.assertTrue(result, f\"Validation failed for file: {file_path}\")\n",
      "AssertionError: False is not true : Validation failed for file: C:\\Users\\utkarsh.d\\Downloads\\invalid.json\n",
      "\n",
      "----------------------------------------------------------------------\n",
      "Ran 1 test in 0.005s\n",
      "\n",
      "FAILED (failures=1)\n"
     ]
    }
   ],
   "source": [
    "class TestJsonValidation(unittest.TestCase):\n",
    "    def test_valid_json_file(self):\n",
    "        file_path = os.path.join(script_dir, \"invalid.json\")\n",
    "        result = is_valid_json_file(file_path)\n",
    "        self.assertTrue(result, f\"Validation failed for file: {file_path}\")\n",
    "\n",
    "if __name__ == '__main__':\n",
    "    unittest.main(argv=['first-arg-is-ignored'], exit=False)\n"
   ]
  },
  {
   "cell_type": "code",
   "execution_count": null,
   "id": "b83c57da",
   "metadata": {},
   "outputs": [],
   "source": []
  }
 ],
 "metadata": {
  "kernelspec": {
   "display_name": "Python 3 (ipykernel)",
   "language": "python",
   "name": "python3"
  },
  "language_info": {
   "codemirror_mode": {
    "name": "ipython",
    "version": 3
   },
   "file_extension": ".py",
   "mimetype": "text/x-python",
   "name": "python",
   "nbconvert_exporter": "python",
   "pygments_lexer": "ipython3",
   "version": "3.9.13"
  }
 },
 "nbformat": 4,
 "nbformat_minor": 5
}
